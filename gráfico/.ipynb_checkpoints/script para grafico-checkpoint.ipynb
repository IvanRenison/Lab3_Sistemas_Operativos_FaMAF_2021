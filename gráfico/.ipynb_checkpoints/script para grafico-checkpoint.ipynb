{
 "cells": [
  {
   "cell_type": "code",
   "execution_count": 1,
   "id": "9f92771a",
   "metadata": {},
   "outputs": [],
   "source": [
    "import matplotlib.pyplot as plt\n",
    "import numpy as np"
   ]
  },
  {
   "cell_type": "code",
   "execution_count": 74,
   "id": "c01bd86d",
   "metadata": {},
   "outputs": [],
   "source": [
    "files = [  \"0cpu1io_io1\",\n",
    "  \"0cpu2io_io1\",\n",
    "  \"0cpu2io_io2\",\n",
    "  \"1cpu0io_cpu1\",\n",
    "  \"1cpu1io_cpu1\",\n",
    "  \"1cpu1io_io1\",\n",
    "  \"1cpu2io_cpu1\",\n",
    "  \"1cpu2io_io1\",\n",
    "  \"1cpu2io_io2\",\n",
    "  \"2cpu0io_cpu1\",\n",
    "  \"2cpu0io_cpu2\",\n",
    "  \"2cpu1io_cpu1\",\n",
    "  \"2cpu1io_cpu2\",\n",
    "  \"2cpu1io_io1\",\n",
    "  \"2cpu2io_cpu1\",\n",
    "  \"2cpu2io_cpu2\",\n",
    "  \"2cpu2io_io1\",\n",
    "  \"2cpu2io_io2\"\n",
    "]"
   ]
  },
  {
   "cell_type": "code",
   "execution_count": 75,
   "id": "e8629bb9",
   "metadata": {},
   "outputs": [],
   "source": [
    "dict_files = dict.fromkeys(files)"
   ]
  },
  {
   "cell_type": "code",
   "execution_count": 76,
   "id": "527dbb7b",
   "metadata": {},
   "outputs": [],
   "source": [
    "#Modificar esta variable con el directorio correspondiente de las mediciones \n",
    "path = \"../Mediciones/mlfq_puntos_estrella/quantum_normal/\""
   ]
  },
  {
   "cell_type": "code",
   "execution_count": 77,
   "id": "3c2f3962",
   "metadata": {
    "scrolled": false
   },
   "outputs": [],
   "source": [
    "for file in files:\n",
    "    text = open(path + file, 'r+')\n",
    "    text = text.read()\n",
    "    text = text.strip().split()\n",
    "    dict_files[file] = text"
   ]
  },
  {
   "cell_type": "markdown",
   "id": "3cf84a0a",
   "metadata": {},
   "source": [
    "Observación: Hay que asegurarse que todas las mediciones esten en el formato:\n",
    "\n",
    "4: FLO: 201326592, ticks: 868 <br>\n",
    "4: FLO: 201326592, ticks: 987  <br>\n",
    "4: FLO: 201326592, ticks: 950  <br>\n",
    "4: FLO: 201326592, ticks: 950  <br>\n",
    "4: FLO: 201326592, ticks: 949  <br>\n",
    "4: FLO: 201326592, ticks: 950  <br>\n",
    "\n",
    "Es decir que ni en las mediciones de cpubench ni iobench hayan caracteres adicionales (como por ejemplo el $)\n",
    "para qude esta manera funcione correctamente el siguiente fragmento de codigo.\n"
   ]
  },
  {
   "cell_type": "code",
   "execution_count": 78,
   "id": "47f1db3d",
   "metadata": {},
   "outputs": [],
   "source": [
    "for keys in dict_files:\n",
    "    if \"_io\" in keys:\n",
    "        list = []\n",
    "        aux = dict_files[keys]\n",
    "        for i in range(2, len(aux), +5):\n",
    "            aux[i] = int(aux[i].replace(\",\", \"\"))\n",
    "            aux[i+2] = int(aux[i+2].replace(\",\", \"\"))\n",
    "            list.append(aux[i]/aux[i+2])\n",
    "        dict_files[keys] = list\n",
    "    if \"_cpu\" in keys:\n",
    "        list = []\n",
    "        aux = dict_files[keys]\n",
    "        for i in range(2, len(aux), +5):\n",
    "            aux[i] = int(aux[i].replace(\",\", \"\"))\n",
    "            aux[i+2] = int(aux[i+2].replace(\",\", \"\"))\n",
    "            list.append(aux[i]/1000/aux[i+2])\n",
    "        dict_files[keys] = list\n",
    "        "
   ]
  },
  {
   "cell_type": "code",
   "execution_count": 79,
   "id": "6fe35a37",
   "metadata": {},
   "outputs": [],
   "source": [
    "for keys in dict_files:\n",
    "    dict_files[keys] = sum(dict_files[keys])/len(dict_files[keys])"
   ]
  },
  {
   "cell_type": "code",
   "execution_count": 80,
   "id": "7bc43bb8",
   "metadata": {},
   "outputs": [],
   "source": [
    "labels = ['1CPU', '2CPU', '2CPU1IO', '1CPU1IO', '2CCPU2IO', '1CPU2IO', '2IO', 'IO']\n",
    "cpu1 = np.zeros(8)\n",
    "cpu2 = np.zeros(8)\n",
    "io1 = np.zeros(8)\n",
    "io2 = np.zeros(8)\n",
    "\n",
    "cpu1[0] = dict_files['1cpu0io_cpu1']\n",
    "cpu1[1] = dict_files['2cpu0io_cpu1']\n",
    "cpu1[2] = dict_files['2cpu1io_cpu1']\n",
    "cpu1[3] = dict_files['1cpu1io_cpu1']\n",
    "cpu1[4] = dict_files['2cpu2io_cpu1']\n",
    "\n",
    "\n",
    "cpu2[1] = dict_files['2cpu0io_cpu2']\n",
    "cpu2[2] = dict_files['2cpu1io_cpu2']\n",
    "cpu2[4] = dict_files['2cpu2io_cpu2']\n",
    "\n",
    "\n",
    "io1[2] = dict_files['2cpu1io_io1']\n",
    "io1[3] = dict_files['1cpu1io_io1']\n",
    "io1[4] = dict_files['2cpu2io_io1']\n",
    "io1[5] = dict_files['1cpu2io_io1']\n",
    "io1[6] = dict_files['0cpu2io_io1']\n",
    "io1[7] = dict_files['0cpu1io_io1']\n",
    "\n",
    "\n",
    "io2[4] = dict_files['2cpu2io_io2']\n",
    "io2[5] = dict_files['1cpu2io_io2']\n",
    "io2[6] = dict_files['0cpu2io_io2']\n",
    "\n"
   ]
  },
  {
   "cell_type": "code",
   "execution_count": 109,
   "id": "ed375d2f",
   "metadata": {},
   "outputs": [
    {
     "data": {
      "image/png": "[encoded data removed]",
      "text/plain": [
       "<Figure size 432x288 with 2 Axes>"
      ]
     },
     "metadata": {
      "needs_background": "light"
     },
     "output_type": "display_data"
    }
   ],
   "source": [
    "x_cpu1 = np.arange(len(cpu1))\n",
    "x_cpu2 = np.arange(len(cpu2))\n",
    "x_io1 = np.arange(len(io1))\n",
    "x_io2 = np.arange(len(io2))\n",
    "\n",
    "offset_cpu1 = np.zeros(len(cpu1))\n",
    "offset_cpu2 = np.zeros(len(cpu2))\n",
    "offset_io1 = np.zeros(len(io1))\n",
    "offset_io2 = np.zeros(len(io2))\n",
    "\n",
    "shorter = min(len(cpu1), len(cpu2), len(io1), len(io2))\n",
    "\n",
    "width = 0.15 # the width of the bars\n",
    "\n",
    "offset_cpu1[:shorter] = width/2\n",
    "offset_cpu2[:shorter] = width/2\n",
    "offset_io1[:shorter] = width/2\n",
    "offset_io2[:shorter] = width/2\n",
    "\n",
    "\n",
    "fig, ax = plt.subplots()\n",
    "twin1 = ax.twinx()\n",
    "rects1 = twin1.bar(x_cpu1 - offset_cpu1, cpu1, width, color =\"g\", edgecolor =\"black\")\n",
    "rects2 = twin1.bar(x_cpu2 + offset_cpu2, cpu2, width, label=\"CPU\", color =\"g\",  edgecolor =\"black\")\n",
    "rects4 = ax.bar(x_io2 + 3 *offset_io1, io2, width, color = \"red\",  edgecolor =\"black\")\n",
    "rects3 = ax.bar(x_io1 + 5 *offset_io1, io1, width, label=\"IO\", color =\"red\",  edgecolor =\"black\")\n",
    "\n",
    "# La linea ax.set_title se puede modificar para cambiar el titulo del grafico\n",
    "# La line savefig se puede modificar para cambiar el nombre con el que se guarda el archivo\n",
    "\n",
    "ax.set_xticks(x_io2)\n",
    "ax.set_xticklabels(labels)\n",
    "ax.set_ylabel(\"IO/TICKS\")\n",
    "#twin1.set_ylim(0, 200)\n",
    "twin1.set_ylabel(\"KFLO/TICKS\")\n",
    "ax.set_title(\"Quantum 100 veces menor\")\n",
    "ax.grid(zorder=0)\n",
    "ax.set_axisbelow(True)\n",
    "twin1.set_axisbelow(True)\n",
    "twin1.legend(loc = \"upper right\")\n",
    "ax.legend(loc = (0.82, 0.8))\n",
    "ax.yaxis.label.set_color('red')\n",
    "twin1.yaxis.label.set_color('green')\n",
    "for tick in ax.get_xticklabels():\n",
    "    tick.set_rotation(45)\n",
    "plt.tight_layout() \n",
    "\n",
    "#plt.savefig(\"mlfq_estrella_100less.jpg\", dpi=100) "
   ]
  }
 ],
 "metadata": {
  "kernelspec": {
   "display_name": "Python 3",
   "language": "python",
   "name": "python3"
  },
  "language_info": {
   "codemirror_mode": {
    "name": "ipython",
    "version": 3
   },
   "file_extension": ".py",
   "mimetype": "text/x-python",
   "name": "python",
   "nbconvert_exporter": "python",
   "pygments_lexer": "ipython3",
   "version": "3.7.10"
  }
 },
 "nbformat": 4,
 "nbformat_minor": 5
}
